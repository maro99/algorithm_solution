{
 "cells": [
  {
   "cell_type": "code",
   "execution_count": null,
   "metadata": {},
   "outputs": [],
   "source": [
    "\"\"\"\n",
    "\n",
    "보글(Boggle) 게임은 그림 (a)와 같은 5x5 크기의 알파벳 격자인 \n",
    "게임판의 한 글자에서 시작해서 펜을 움직이면서 만나는 글자를 그 순서대로 나열하여 만들어지는 영어 단어를 찾아내는 게임입니다.\n",
    "펜은 상하좌우, 혹은 대각선으로 인접한 칸으로 이동할 수 있으며 글자를 건너뛸 수는 없습니다. 지나간 글자를 다시 지나가는 것은 가능하지만,\n",
    "펜을 이동하지않고 같은 글자를 여러번 쓸 수는 없습니다.\n",
    "\n",
    "예를 들어 그림의 (b), (c), (d)는 각각 (a)의 격자에서 PRETTY, GIRL, REPEAT을 찾아낸 결과를 보여줍니다.\n",
    "\n",
    "보글 게임판과 알고 있는 단어들의 목록이 주어질 때, 보글 게임판에서 각 단어를 찾을 수 있는지 여부를 출력하는 프로그램을 작성하세요.\n",
    "\n",
    "주의: 알고리즘 문제 해결 전략 6장을 읽고 이 문제를 푸시려는 분들은 주의하세요. 6장의 예제 코드는 이 문제를 풀기에는 너무 느립니다. \n",
    "6장의 뒷부분과 8장을 참조하세요.\n",
    "\n",
    "입력\n",
    "입력의 첫 줄에는 테스트 케이스의 수 C(C <= 50)가 주어집니다. 각 테스트 케이스의 첫 줄에는 각 5줄에 5글자로 보글 게임판이 주어집니다.\n",
    "게임판의 모든 칸은 알파벳 대문자입니다.\n",
    "그 다음 줄에는 우리가 알고 있는 단어의 수 N(1 <= N <= 10)이 주어집니다. 그 후 N줄에는 한 줄에 하나씩 우리가 알고 있는 단어들이 주어집니다.\n",
    "각 단어는 알파벳 대문자 1글자 이상 10글자 이하로 구성됩니다.\n",
    "\n",
    "출력\n",
    "각 테스트 케이스마다 N줄을 출력합니다. 각 줄에는 알고 있는 단어를 입력에 주어진 순서대로 출력하고, \n",
    "해당 단어를 찾을 수 있을 경우 YES, 아닐 경우 NO를 출력합니다.\n",
    "\n",
    "\n",
    "예제 입력\n",
    "1\n",
    "URLPM\n",
    "XPRET\n",
    "GIAET\n",
    "XTNZY\n",
    "XOQRS\n",
    "6\n",
    "PRETTY\n",
    "GIRL\n",
    "REPEAT\n",
    "KARA\n",
    "PANDORA\n",
    "GIAZAPX\n",
    "예제 출력\n",
    "PRETTY YES\n",
    "GIRL YES\n",
    "REPEAT YES\n",
    "KARA NO\n",
    "PANDORA NO\n",
    "GIAZAPX YES\n",
    "\n",
    "\"\"\""
   ]
  },
  {
   "cell_type": "code",
   "execution_count": 68,
   "metadata": {},
   "outputs": [
    {
     "name": "stdout",
     "output_type": "stream",
     "text": [
      "PRETTY YES\n",
      "GIRL YES\n",
      "REPEAT YES\n",
      "KARA NO\n",
      "PANDORA NO\n",
      "GIAZAPX YES\n"
     ]
    }
   ],
   "source": [
    "\n",
    "'''\n",
    "1\n",
    "URLPM\n",
    "XPRET\n",
    "GIAET\n",
    "XTNZY\n",
    "XOQRS\n",
    "'''\n",
    "\n",
    "\n",
    "# if __name__ == \"__main__\":\n",
    "\n",
    "#     test_case = int(input())\n",
    "\n",
    "#     board =[]\n",
    "#     word = []\n",
    "\n",
    "\n",
    "#     while(test_case):\n",
    "\n",
    "#         test_case = test_case -1\n",
    "\n",
    "#         for i in range(0,5):\n",
    "#             line = input()\n",
    "#             board.append(line)\n",
    "\n",
    "\n",
    "#         word_num = int(input())\n",
    "        \n",
    "#         for i in range(0,5):\n",
    "#             line = input()\n",
    "#             word.append(line)\n",
    "\n",
    "\n",
    "dx_dy_tupple_list= [(-1,-1),(-1,0),(-1,1),(0,1),(1,1),(1,0),(1,-1),(0,-1)]\n",
    "\n",
    "\n",
    "def boogle(y,x,word1):\n",
    "    \n",
    "    # 기저 조건들.\n",
    "    \n",
    "    #경계 벋어나면 false \n",
    "    if y>4 or y<0 or x>4 or x<0:                                          #1\n",
    "        return False \n",
    "    # word의 첫글자가 와 해당 좌표의 픽샐 값이 다르면 false\n",
    "    if word1[0] != board[y][x]:                                            #2\n",
    "        return False\n",
    "    # 만약 현제 word[0]가 한글자 남았다면 종료( 바로위 다음 검사하는것을 주의해라.)\n",
    "    if len(word1) == 1:                                                    #3       \n",
    "        return True\n",
    "    \n",
    "    \n",
    "    # 주변 8지역에도 돌면서 제귀적으로 boggle을 호출한다.\n",
    "    for dx,dy in dx_dy_tupple_list:                                       #4\n",
    "        # 0번째 word는 위에서 검사했으니 버리고 1~마지막  word 를 사용해 호출한다.\n",
    "        if boogle(y+dy,x+dx,word1[1:]):                                    #5\n",
    "            return True\n",
    "        \n",
    "#     (5x5중 하나의 픽셀에서 보글 호출한) 가장 밖의 보글 호출에서 false 리턴 한다면\n",
    "#     첫글자가 맞지 않거나 경계 조건 벋어난것.\n",
    "    return False                                                          #6\n",
    "        \n",
    "\n",
    "# 순서를 살펴보면 이렇다. \n",
    "# 아래 메인의 # 0에서 보글을 5x5증 하나의 픽셀 x,y를 기준으로호출 \n",
    "#1~#2 에서 false이면 적합하지 않은 값. 바로 false 반환 .\n",
    "#3 에서 word 1글자면 바로 true리턴. 하지만 아니니까 \n",
    "#4 에서 8군데 돌면서 보글 제귀적으로 호출.\n",
    "#5 에서 제귀호출할때 word의 앞글을 위에서 검사했기에 뒷부분만을 word로 가져가서 호출.\n",
    "#제귀호출 안에서 1로 다시 간다.\n",
    "# 1~3 검사후 글자가 아직 1글자가 아니라면 그안에서도 제귀 호출을 한다.\n",
    "# 주변 8방향 에대해 호출하는데 이때도 위에서 맨앞 검사했기에 0번째 제외한 뒷부분만 가져가서 word로 호출.\n",
    "\n",
    "\n",
    "\n",
    "\n",
    "if __name__ == \"__main__\":\n",
    "\n",
    "    test_case = 1 \n",
    "\n",
    "    board =[]\n",
    "    words = []\n",
    "\n",
    "\n",
    "    while(test_case):\n",
    "\n",
    "        test_case = test_case -1\n",
    "\n",
    "        board.append(\"URLPM\")\n",
    "        board.append(\"XPRET\")\n",
    "        board.append(\"GIAET\")\n",
    "        board.append(\"XTNZY\")\n",
    "        board.append(\"XOQRS\")\n",
    "        \n",
    "        word_num = 6\n",
    "        \n",
    "\n",
    "        words.append(\"PRETTY\")\n",
    "        words.append(\"GIRL\")\n",
    "        words.append(\"REPEAT\")\n",
    "        words.append(\"KARA\")\n",
    "        words.append(\"PANDORA\")\n",
    "        words.append(\"GIAZAPX\")\n",
    "            \n",
    "        for word in words:\n",
    "            \n",
    "            is_in = False\n",
    "            for y in range(0,5):\n",
    "                for x in range(0,5):\n",
    "                    is_in = boogle(y,x,word)#0\n",
    "                    if is_in:\n",
    "                        break\n",
    "                if is_in:\n",
    "                    break\n",
    "                    \n",
    "            if is_in:\n",
    "                print(f'{word} YES')\n",
    "            else:\n",
    "                print(f'{word} NO')\n",
    "            \n",
    "                \n",
    "\n",
    "        \n",
    "        \n",
    "        \n"
   ]
  },
  {
   "cell_type": "code",
   "execution_count": 43,
   "metadata": {},
   "outputs": [
    {
     "data": {
      "text/plain": [
       "['URLPM', 'XPRET', 'GIAET', 'XTNZY', 'XOQRS']"
      ]
     },
     "execution_count": 43,
     "metadata": {},
     "output_type": "execute_result"
    }
   ],
   "source": [
    "board"
   ]
  },
  {
   "cell_type": "code",
   "execution_count": 66,
   "metadata": {},
   "outputs": [
    {
     "data": {
      "text/plain": [
       "['PRETTY',\n",
       " 'GIRL',\n",
       " 'REPEAT',\n",
       " 'KARA',\n",
       " 'PANDORA',\n",
       " 'GIAZAPX',\n",
       " 'PRETTY',\n",
       " 'GIRL',\n",
       " 'REPEAT',\n",
       " 'KARA',\n",
       " 'PANDORA',\n",
       " 'GIAZAPX',\n",
       " 'PRETTY',\n",
       " 'GIRL',\n",
       " 'REPEAT',\n",
       " 'KARA',\n",
       " 'PANDORA',\n",
       " 'GIAZAPX',\n",
       " 'PRETTY',\n",
       " 'GIRL',\n",
       " 'REPEAT',\n",
       " 'KARA',\n",
       " 'PANDORA',\n",
       " 'GIAZAPX',\n",
       " 'PRETTY',\n",
       " 'GIRL',\n",
       " 'REPEAT',\n",
       " 'KARA',\n",
       " 'PANDORA',\n",
       " 'GIAZAPX',\n",
       " 'PRETTY',\n",
       " 'GIRL',\n",
       " 'REPEAT',\n",
       " 'KARA',\n",
       " 'PANDORA',\n",
       " 'GIAZAPX']"
      ]
     },
     "execution_count": 66,
     "metadata": {},
     "output_type": "execute_result"
    }
   ],
   "source": [
    "words"
   ]
  },
  {
   "cell_type": "code",
   "execution_count": 51,
   "metadata": {},
   "outputs": [
    {
     "name": "stdout",
     "output_type": "stream",
     "text": [
      "1\n",
      "6\n",
      "@@@@@@@@@\n",
      "1\n",
      "7\n",
      "@@@@@@@@@\n"
     ]
    }
   ],
   "source": [
    "a= [1,2,3,4,5]\n",
    "b = [6,7,8,8,9]\n",
    "\n",
    "for i in a:\n",
    "    for j in b:\n",
    "        print(i)\n",
    "        print(j)\n",
    "        print('@@@@@@@@@')\n",
    "        if j==7:\n",
    "            break\n",
    "    if j==7:\n",
    "        break\n",
    "    print('####################333')\n",
    "        "
   ]
  },
  {
   "cell_type": "code",
   "execution_count": 56,
   "metadata": {},
   "outputs": [],
   "source": [
    "a = [1,2]"
   ]
  },
  {
   "cell_type": "code",
   "execution_count": 57,
   "metadata": {},
   "outputs": [
    {
     "data": {
      "text/plain": [
       "[2]"
      ]
     },
     "execution_count": 57,
     "metadata": {},
     "output_type": "execute_result"
    }
   ],
   "source": [
    "a [1:]"
   ]
  },
  {
   "cell_type": "code",
   "execution_count": 55,
   "metadata": {},
   "outputs": [
    {
     "data": {
      "text/plain": [
       "'S'"
      ]
     },
     "execution_count": 55,
     "metadata": {},
     "output_type": "execute_result"
    }
   ],
   "source": [
    "board[4][4]"
   ]
  },
  {
   "cell_type": "code",
   "execution_count": null,
   "metadata": {},
   "outputs": [],
   "source": []
  }
 ],
 "metadata": {
  "kernelspec": {
   "display_name": "Python 3",
   "language": "python",
   "name": "python3"
  },
  "language_info": {
   "codemirror_mode": {
    "name": "ipython",
    "version": 3
   },
   "file_extension": ".py",
   "mimetype": "text/x-python",
   "name": "python",
   "nbconvert_exporter": "python",
   "pygments_lexer": "ipython3",
   "version": "3.6.5"
  }
 },
 "nbformat": 4,
 "nbformat_minor": 2
}
