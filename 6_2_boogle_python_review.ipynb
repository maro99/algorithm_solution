{
 "cells": [
  {
   "cell_type": "code",
   "execution_count": 1,
   "metadata": {},
   "outputs": [
    {
     "data": {
      "text/plain": [
       "'\\n\\n보글(Boggle) 게임은 그림 (a)와 같은 5x5 크기의 알파벳 격자인 \\n게임판의 한 글자에서 시작해서 펜을 움직이면서 만나는 글자를 그 순서대로 나열하여 만들어지는 영어 단어를 찾아내는 게임입니다.\\n펜은 상하좌우, 혹은 대각선으로 인접한 칸으로 이동할 수 있으며 글자를 건너뛸 수는 없습니다. 지나간 글자를 다시 지나가는 것은 가능하지만,\\n펜을 이동하지않고 같은 글자를 여러번 쓸 수는 없습니다.\\n\\n예를 들어 그림의 (b), (c), (d)는 각각 (a)의 격자에서 PRETTY, GIRL, REPEAT을 찾아낸 결과를 보여줍니다.\\n\\n보글 게임판과 알고 있는 단어들의 목록이 주어질 때, 보글 게임판에서 각 단어를 찾을 수 있는지 여부를 출력하는 프로그램을 작성하세요.\\n\\n주의: 알고리즘 문제 해결 전략 6장을 읽고 이 문제를 푸시려는 분들은 주의하세요. 6장의 예제 코드는 이 문제를 풀기에는 너무 느립니다. \\n6장의 뒷부분과 8장을 참조하세요.\\n\\n입력\\n입력의 첫 줄에는 테스트 케이스의 수 C(C <= 50)가 주어집니다. 각 테스트 케이스의 첫 줄에는 각 5줄에 5글자로 보글 게임판이 주어집니다.\\n게임판의 모든 칸은 알파벳 대문자입니다.\\n그 다음 줄에는 우리가 알고 있는 단어의 수 N(1 <= N <= 10)이 주어집니다. 그 후 N줄에는 한 줄에 하나씩 우리가 알고 있는 단어들이 주어집니다.\\n각 단어는 알파벳 대문자 1글자 이상 10글자 이하로 구성됩니다.\\n\\n출력\\n각 테스트 케이스마다 N줄을 출력합니다. 각 줄에는 알고 있는 단어를 입력에 주어진 순서대로 출력하고, \\n해당 단어를 찾을 수 있을 경우 YES, 아닐 경우 NO를 출력합니다.\\n\\n\\n예제 입력\\n1\\nURLPM\\nXPRET\\nGIAET\\nXTNZY\\nXOQRS\\n6\\nPRETTY\\nGIRL\\nREPEAT\\nKARA\\nPANDORA\\nGIAZAPX\\n예제 출력\\nPRETTY YES\\nGIRL YES\\nREPEAT YES\\nKARA NO\\nPANDORA NO\\nGIAZAPX YES\\n\\n'"
      ]
     },
     "execution_count": 1,
     "metadata": {},
     "output_type": "execute_result"
    }
   ],
   "source": [
    "\"\"\"\n",
    "\n",
    "보글(Boggle) 게임은 그림 (a)와 같은 5x5 크기의 알파벳 격자인 \n",
    "게임판의 한 글자에서 시작해서 펜을 움직이면서 만나는 글자를 그 순서대로 나열하여 만들어지는 영어 단어를 찾아내는 게임입니다.\n",
    "펜은 상하좌우, 혹은 대각선으로 인접한 칸으로 이동할 수 있으며 글자를 건너뛸 수는 없습니다. 지나간 글자를 다시 지나가는 것은 가능하지만,\n",
    "펜을 이동하지않고 같은 글자를 여러번 쓸 수는 없습니다.\n",
    "\n",
    "예를 들어 그림의 (b), (c), (d)는 각각 (a)의 격자에서 PRETTY, GIRL, REPEAT을 찾아낸 결과를 보여줍니다.\n",
    "\n",
    "보글 게임판과 알고 있는 단어들의 목록이 주어질 때, 보글 게임판에서 각 단어를 찾을 수 있는지 여부를 출력하는 프로그램을 작성하세요.\n",
    "\n",
    "주의: 알고리즘 문제 해결 전략 6장을 읽고 이 문제를 푸시려는 분들은 주의하세요. 6장의 예제 코드는 이 문제를 풀기에는 너무 느립니다. \n",
    "6장의 뒷부분과 8장을 참조하세요.\n",
    "\n",
    "입력\n",
    "입력의 첫 줄에는 테스트 케이스의 수 C(C <= 50)가 주어집니다. 각 테스트 케이스의 첫 줄에는 각 5줄에 5글자로 보글 게임판이 주어집니다.\n",
    "게임판의 모든 칸은 알파벳 대문자입니다.\n",
    "그 다음 줄에는 우리가 알고 있는 단어의 수 N(1 <= N <= 10)이 주어집니다. 그 후 N줄에는 한 줄에 하나씩 우리가 알고 있는 단어들이 주어집니다.\n",
    "각 단어는 알파벳 대문자 1글자 이상 10글자 이하로 구성됩니다.\n",
    "\n",
    "출력\n",
    "각 테스트 케이스마다 N줄을 출력합니다. 각 줄에는 알고 있는 단어를 입력에 주어진 순서대로 출력하고, \n",
    "해당 단어를 찾을 수 있을 경우 YES, 아닐 경우 NO를 출력합니다.\n",
    "\n",
    "\n",
    "예제 입력\n",
    "1\n",
    "URLPM\n",
    "XPRET\n",
    "GIAET\n",
    "XTNZY\n",
    "XOQRS\n",
    "6\n",
    "PRETTY\n",
    "GIRL\n",
    "REPEAT\n",
    "KARA\n",
    "PANDORA\n",
    "GIAZAPX\n",
    "예제 출력\n",
    "PRETTY YES\n",
    "GIRL YES\n",
    "REPEAT YES\n",
    "KARA NO\n",
    "PANDORA NO\n",
    "GIAZAPX YES\n",
    "\n",
    "\"\"\""
   ]
  },
  {
   "cell_type": "code",
   "execution_count": 26,
   "metadata": {},
   "outputs": [],
   "source": [
    "list_a  = [\"URLPM\",\"XPRET\",\"GIAET\",\"XTNZY\", \"XOQRS\"]\n",
    "words  = [\"PRETTY\",\"GIRL\", \"REPEAT\", \"KARA\", \"PANDORA\", \"GIAZAPX\"]\n",
    "words_num = 6\n",
    "\n",
    "# 8방향 \n",
    "eight_direction = [(-1,-1), (-1,0),(-1,1),(0,1),(1,1),(1,0),(1,-1),(0,-1)]\n",
    "\n",
    "def check_around(y,x,word,list_a):\n",
    "#     print(word)\n",
    "    # 경계조건 만족하지 않으면 False\n",
    "    if y > 4 or y < 0 or x > 4 or x < 0:\n",
    "        return False\n",
    "#     print('@@@@@@@@@@@@@@@@@@@@@@')\n",
    "    # 종료조건\n",
    "    if word[0] != list_a[y][x]:\n",
    "        return False\n",
    "    \n",
    "    if len(word)  == 1:\n",
    "        return True\n",
    "    \n",
    "    # 인접 8방향에 대해서 제귀 호출.\n",
    "    for dy,dx in eight_direction:\n",
    "        this_y = y+dy\n",
    "        this_x = x+dx\n",
    "        # 위에서 word의 첫 글짜가 일치 했기 때문에 1~끝까지만 제귀적으로 넣는다. \n",
    "        word_true_or_not = check_around(this_y, this_x, word[1:], list_a)\n",
    "        \n",
    "        if word_true_or_not == True:\n",
    "            return True \n",
    "    \n",
    "    return False\n",
    "    \n",
    "    \n",
    "    \n",
    "    \n",
    "\n",
    "\n",
    "def get_solution(list_a, words,words_num):\n",
    "    \n",
    "\n",
    "    \n",
    "    for word in words:\n",
    "        \n",
    "        # 5x5 한개씩 전체적으로 호출한 후에 각각에 대해서 제귀적으로 check_aroun함수를 호출\n",
    "        this_word_true_or_not =False\n",
    "        for dy in range(0,5):\n",
    "            for dx in range(0,5):\n",
    "                this_word_true_or_not = check_around(dy,dx,word,list_a)\n",
    "                if this_word_true_or_not:\n",
    "                    break\n",
    "            if this_word_true_or_not:\n",
    "                break\n",
    "                \n",
    "        print(f'{word} : {this_word_true_or_not}')\n",
    "                    \n",
    "    \n",
    "         \n",
    "        \n",
    "    "
   ]
  },
  {
   "cell_type": "code",
   "execution_count": null,
   "metadata": {},
   "outputs": [],
   "source": []
  },
  {
   "cell_type": "code",
   "execution_count": null,
   "metadata": {},
   "outputs": [],
   "source": []
  },
  {
   "cell_type": "code",
   "execution_count": 27,
   "metadata": {},
   "outputs": [
    {
     "name": "stdout",
     "output_type": "stream",
     "text": [
      "PRETTY : True\n",
      "GIRL : True\n",
      "REPEAT : True\n",
      "KARA : False\n",
      "PANDORA : False\n",
      "GIAZAPX : True\n"
     ]
    }
   ],
   "source": [
    "list_a  = [\"URLPM\",\"XPRET\",\"GIAET\",\"XTNZY\", \"XOQRS\"]\n",
    "words  = [\"PRETTY\",\"GIRL\", \"REPEAT\", \"KARA\", \"PANDORA\", \"GIAZAPX\"]\n",
    "words_num = 6\n",
    "\n",
    "get_solution(list_a, words,words_num)"
   ]
  },
  {
   "cell_type": "code",
   "execution_count": null,
   "metadata": {},
   "outputs": [],
   "source": []
  },
  {
   "cell_type": "code",
   "execution_count": null,
   "metadata": {},
   "outputs": [],
   "source": []
  },
  {
   "cell_type": "code",
   "execution_count": 4,
   "metadata": {},
   "outputs": [
    {
     "name": "stdout",
     "output_type": "stream",
     "text": [
      "-1\n",
      "-1\n",
      "-1\n",
      "0\n",
      "-1\n",
      "1\n",
      "0\n",
      "1\n",
      "1\n",
      "1\n",
      "1\n",
      "0\n",
      "1\n",
      "-1\n",
      "0\n",
      "-1\n"
     ]
    }
   ],
   "source": [
    "eight_direction = [(-1,-1), (-1,0),(-1,1),(0,1),(1,1),(1,0),(1,-1),(0,-1)]\n",
    "\n",
    "\n",
    "for x,y in eight_direction:\n",
    "    print(x)\n",
    "    print(y)"
   ]
  },
  {
   "cell_type": "code",
   "execution_count": 9,
   "metadata": {},
   "outputs": [
    {
     "data": {
      "text/plain": [
       "'bcd'"
      ]
     },
     "execution_count": 9,
     "metadata": {},
     "output_type": "execute_result"
    }
   ],
   "source": [
    "word = 'abcd'\n",
    "word[1:]"
   ]
  },
  {
   "cell_type": "code",
   "execution_count": null,
   "metadata": {},
   "outputs": [],
   "source": []
  }
 ],
 "metadata": {
  "kernelspec": {
   "display_name": "Python 3",
   "language": "python",
   "name": "python3"
  },
  "language_info": {
   "codemirror_mode": {
    "name": "ipython",
    "version": 3
   },
   "file_extension": ".py",
   "mimetype": "text/x-python",
   "name": "python",
   "nbconvert_exporter": "python",
   "pygments_lexer": "ipython3",
   "version": "3.6.5"
  }
 },
 "nbformat": 4,
 "nbformat_minor": 2
}
