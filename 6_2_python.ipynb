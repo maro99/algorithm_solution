{
 "cells": [
  {
   "cell_type": "code",
   "execution_count": 40,
   "metadata": {},
   "outputs": [],
   "source": [
    "# n: 전체 원소의 수\n",
    "# picked: 지금까지 고른 원소들의 번호\n",
    "# toPick: 더 고를 원소의 수\n",
    "# 일때 앞으로 toPick개의 원소를 고르는 모든 방법을 출력한다.\n",
    "\n",
    "def printpicked(picked):\n",
    "    for i in picked:\n",
    "        print(i)\n",
    "    print('@@@@@@@@@@@')\n",
    "\n",
    "def pick(n, picked, topick):\n",
    "\n",
    "    # 기저사례: 더 고를 원소가 업을 때 고른 원소들을 출력한다.\n",
    "    if topick == 0:\n",
    "        printpicked(picked)\n",
    "        return\n",
    "    \n",
    "    # 고를 수 있는 가장 작은 번호를 계산한다.\n",
    "    if picked:\n",
    "        smallest = picked[-1]+1\n",
    "    else:\n",
    "        smallest =0\n",
    "    \n",
    "    # 이 단계 에서 워놋 하나를 고른다. \n",
    "    for next in range(smallest,n):\n",
    "        picked.append(next)\n",
    "        pick(n, picked, topick-1)\n",
    "        picked.pop()\n",
    "\n",
    "        \n",
    "    "
   ]
  },
  {
   "cell_type": "code",
   "execution_count": 43,
   "metadata": {},
   "outputs": [
    {
     "name": "stdout",
     "output_type": "stream",
     "text": [
      "0\n",
      "1\n",
      "@@@@@@@@@@@\n",
      "0\n",
      "2\n",
      "@@@@@@@@@@@\n",
      "0\n",
      "3\n",
      "@@@@@@@@@@@\n",
      "1\n",
      "2\n",
      "@@@@@@@@@@@\n",
      "1\n",
      "3\n",
      "@@@@@@@@@@@\n",
      "2\n",
      "3\n",
      "@@@@@@@@@@@\n"
     ]
    }
   ],
   "source": [
    "n =4\n",
    "picked = []\n",
    "topick =2\n",
    "\n",
    "pick(n, picked, topick)"
   ]
  },
  {
   "cell_type": "code",
   "execution_count": null,
   "metadata": {},
   "outputs": [],
   "source": []
  },
  {
   "cell_type": "code",
   "execution_count": 2,
   "metadata": {},
   "outputs": [
    {
     "data": {
      "text/plain": [
       "4"
      ]
     },
     "execution_count": 2,
     "metadata": {},
     "output_type": "execute_result"
    }
   ],
   "source": [
    "lista =[1,2,3,4]\n",
    "lista.pop()"
   ]
  },
  {
   "cell_type": "code",
   "execution_count": 29,
   "metadata": {},
   "outputs": [],
   "source": [
    "lista =[]\n",
    "\n",
    "if lista:\n",
    "    print('@')"
   ]
  },
  {
   "cell_type": "code",
   "execution_count": null,
   "metadata": {},
   "outputs": [],
   "source": []
  }
 ],
 "metadata": {
  "kernelspec": {
   "display_name": "Python 3",
   "language": "python",
   "name": "python3"
  },
  "language_info": {
   "codemirror_mode": {
    "name": "ipython",
    "version": 3
   },
   "file_extension": ".py",
   "mimetype": "text/x-python",
   "name": "python",
   "nbconvert_exporter": "python",
   "pygments_lexer": "ipython3",
   "version": "3.6.5"
  }
 },
 "nbformat": 4,
 "nbformat_minor": 2
}
